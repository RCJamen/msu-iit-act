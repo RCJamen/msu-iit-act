{
 "cells": [
  {
   "cell_type": "code",
   "execution_count": 32,
   "metadata": {},
   "outputs": [],
   "source": [
    "# Polynomial Regression\n",
    "\n",
    "#Importing pandas library to read CSV data file\n",
    "import pandas as pd\n",
    "\n",
    "#Importing matplotlib to plot the results\n",
    "import matplotlib.pyplot as plt"
   ]
  },
  {
   "cell_type": "code",
   "execution_count": 33,
   "metadata": {},
   "outputs": [],
   "source": [
    "#Reading CSV data file in Python\n",
    "dataset = pd.read_csv('Reward_system.csv')"
   ]
  },
  {
   "cell_type": "code",
   "execution_count": 34,
   "metadata": {},
   "outputs": [
    {
     "data": {
      "text/plain": "    Hours  Points\n0      10    1000\n1      12    1200\n2      14    1400\n3      15    1600\n4      17    2400\n5      20    3000\n6      23    4000\n7      25    5000\n8      30   10000\n9      40   18000\n10     47   26000\n11     50   30000\n12     53   40000\n13     60   55000\n14     70  100000\n15     74  150000\n16     80  200000\n17     87  350000\n18     90  380000\n19    100  600000",
      "text/html": "<div>\n<style scoped>\n    .dataframe tbody tr th:only-of-type {\n        vertical-align: middle;\n    }\n\n    .dataframe tbody tr th {\n        vertical-align: top;\n    }\n\n    .dataframe thead th {\n        text-align: right;\n    }\n</style>\n<table border=\"1\" class=\"dataframe\">\n  <thead>\n    <tr style=\"text-align: right;\">\n      <th></th>\n      <th>Hours</th>\n      <th>Points</th>\n    </tr>\n  </thead>\n  <tbody>\n    <tr>\n      <th>0</th>\n      <td>10</td>\n      <td>1000</td>\n    </tr>\n    <tr>\n      <th>1</th>\n      <td>12</td>\n      <td>1200</td>\n    </tr>\n    <tr>\n      <th>2</th>\n      <td>14</td>\n      <td>1400</td>\n    </tr>\n    <tr>\n      <th>3</th>\n      <td>15</td>\n      <td>1600</td>\n    </tr>\n    <tr>\n      <th>4</th>\n      <td>17</td>\n      <td>2400</td>\n    </tr>\n    <tr>\n      <th>5</th>\n      <td>20</td>\n      <td>3000</td>\n    </tr>\n    <tr>\n      <th>6</th>\n      <td>23</td>\n      <td>4000</td>\n    </tr>\n    <tr>\n      <th>7</th>\n      <td>25</td>\n      <td>5000</td>\n    </tr>\n    <tr>\n      <th>8</th>\n      <td>30</td>\n      <td>10000</td>\n    </tr>\n    <tr>\n      <th>9</th>\n      <td>40</td>\n      <td>18000</td>\n    </tr>\n    <tr>\n      <th>10</th>\n      <td>47</td>\n      <td>26000</td>\n    </tr>\n    <tr>\n      <th>11</th>\n      <td>50</td>\n      <td>30000</td>\n    </tr>\n    <tr>\n      <th>12</th>\n      <td>53</td>\n      <td>40000</td>\n    </tr>\n    <tr>\n      <th>13</th>\n      <td>60</td>\n      <td>55000</td>\n    </tr>\n    <tr>\n      <th>14</th>\n      <td>70</td>\n      <td>100000</td>\n    </tr>\n    <tr>\n      <th>15</th>\n      <td>74</td>\n      <td>150000</td>\n    </tr>\n    <tr>\n      <th>16</th>\n      <td>80</td>\n      <td>200000</td>\n    </tr>\n    <tr>\n      <th>17</th>\n      <td>87</td>\n      <td>350000</td>\n    </tr>\n    <tr>\n      <th>18</th>\n      <td>90</td>\n      <td>380000</td>\n    </tr>\n    <tr>\n      <th>19</th>\n      <td>100</td>\n      <td>600000</td>\n    </tr>\n  </tbody>\n</table>\n</div>"
     },
     "execution_count": 34,
     "metadata": {},
     "output_type": "execute_result"
    }
   ],
   "source": [
    "dataset"
   ]
  },
  {
   "cell_type": "code",
   "execution_count": 35,
   "metadata": {},
   "outputs": [
    {
     "data": {
      "text/plain": "(array([[ 10],\n        [ 12],\n        [ 14],\n        [ 15],\n        [ 17],\n        [ 20],\n        [ 23],\n        [ 25],\n        [ 30],\n        [ 40],\n        [ 47],\n        [ 50],\n        [ 53],\n        [ 60],\n        [ 70],\n        [ 74],\n        [ 80],\n        [ 87],\n        [ 90],\n        [100]]),\n array([  1000,   1200,   1400,   1600,   2400,   3000,   4000,   5000,\n         10000,  18000,  26000,  30000,  40000,  55000, 100000, 150000,\n        200000, 350000, 380000, 600000]))"
     },
     "execution_count": 35,
     "metadata": {},
     "output_type": "execute_result"
    }
   ],
   "source": [
    "#Dividing dataset into X and y\n",
    "X = dataset.iloc[:, 0:1].values\n",
    "y = dataset.iloc[:, 1].values\n",
    "\n",
    "X,y"
   ]
  },
  {
   "cell_type": "code",
   "execution_count": 36,
   "metadata": {},
   "outputs": [
    {
     "data": {
      "text/plain": "LinearRegression()"
     },
     "execution_count": 36,
     "metadata": {},
     "output_type": "execute_result"
    }
   ],
   "source": [
    "#Importing LinearRegression from sklearn.linear_model to fit linear regression model\n",
    "from sklearn.linear_model import LinearRegression\n",
    "\n",
    "# Fitting Linear Regression to training data\n",
    "linear_reg = LinearRegression()\n",
    "linear_reg.fit(X, y)"
   ]
  },
  {
   "cell_type": "code",
   "execution_count": 37,
   "metadata": {},
   "outputs": [
    {
     "data": {
      "text/plain": "<Figure size 432x288 with 1 Axes>",
      "image/png": "[encoded data removed]"
     },
     "metadata": {
      "needs_background": "light"
     },
     "output_type": "display_data"
    }
   ],
   "source": [
    "# Plotting Linear Regression results\n",
    "plt.scatter(X, y, color = 'black')\n",
    "plt.plot(X, linear_reg.predict(X), color = 'red')\n",
    "plt.title('Reward System (Linear Regression)')\n",
    "plt.xlabel('Hours')\n",
    "plt.ylabel('Points')\n",
    "plt.show()"
   ]
  },
  {
   "cell_type": "code",
   "execution_count": 38,
   "metadata": {},
   "outputs": [
    {
     "data": {
      "text/plain": "LinearRegression()"
     },
     "execution_count": 38,
     "metadata": {},
     "output_type": "execute_result"
    }
   ],
   "source": [
    "#Importing PolynomialFeatures from sklearn.preprocessing to fit polynomial regression model\n",
    "from sklearn.preprocessing import PolynomialFeatures\n",
    "\n",
    "# Fitting Polynomial Regression to training data\n",
    "polynomial_reg = PolynomialFeatures(degree = 2)\n",
    "X_polynomial = polynomial_reg.fit_transform(X)\n",
    "polynomial_reg.fit(X_polynomial, y)\n",
    "linear_polynomial = LinearRegression()\n",
    "linear_polynomial.fit(X_polynomial, y)"
   ]
  },
  {
   "cell_type": "code",
   "execution_count": 39,
   "metadata": {},
   "outputs": [
    {
     "data": {
      "text/plain": "array([[    1,    10,   100],\n       [    1,    12,   144],\n       [    1,    14,   196],\n       [    1,    15,   225],\n       [    1,    17,   289],\n       [    1,    20,   400],\n       [    1,    23,   529],\n       [    1,    25,   625],\n       [    1,    30,   900],\n       [    1,    40,  1600],\n       [    1,    47,  2209],\n       [    1,    50,  2500],\n       [    1,    53,  2809],\n       [    1,    60,  3600],\n       [    1,    70,  4900],\n       [    1,    74,  5476],\n       [    1,    80,  6400],\n       [    1,    87,  7569],\n       [    1,    90,  8100],\n       [    1,   100, 10000]])"
     },
     "execution_count": 39,
     "metadata": {},
     "output_type": "execute_result"
    }
   ],
   "source": [
    "X_polynomial.astype(int)"
   ]
  },
  {
   "cell_type": "code",
   "execution_count": 40,
   "metadata": {},
   "outputs": [
    {
     "data": {
      "text/plain": "<Figure size 432x288 with 1 Axes>",
      "image/png": "[encoded data removed]"
     },
     "metadata": {
      "needs_background": "light"
     },
     "output_type": "display_data"
    }
   ],
   "source": [
    "# Plotting Polynomial Regression results\n",
    "plt.scatter(X, y, color = 'black')\n",
    "plt.plot(X, linear_polynomial.predict(polynomial_reg.fit_transform(X)), color = 'red')\n",
    "plt.title('Reward System (Poly Regression)')\n",
    "plt.xlabel('Hours')\n",
    "plt.ylabel('Points')\n",
    "plt.show()"
   ]
  },
  {
   "cell_type": "code",
   "execution_count": 41,
   "metadata": {},
   "outputs": [],
   "source": [
    "# Predicting a y value using Linear Regression\n",
    "y_pred_by_simple_linear =linear_reg.predict([[90]])"
   ]
  },
  {
   "cell_type": "code",
   "execution_count": 42,
   "metadata": {},
   "outputs": [
    {
     "data": {
      "text/plain": "array([306179])"
     },
     "execution_count": 42,
     "metadata": {},
     "output_type": "execute_result"
    }
   ],
   "source": [
    "y_pred_by_simple_linear.astype(int)"
   ]
  },
  {
   "cell_type": "code",
   "execution_count": 43,
   "metadata": {},
   "outputs": [],
   "source": [
    "# Predicting a y value using Polynomial Regression\n",
    "y_pred_by_polynomial_linear = linear_polynomial.predict(polynomial_reg.fit_transform([[90]]))"
   ]
  },
  {
   "cell_type": "code",
   "execution_count": 44,
   "metadata": {},
   "outputs": [
    {
     "data": {
      "text/plain": "array([384514])"
     },
     "execution_count": 44,
     "metadata": {},
     "output_type": "execute_result"
    }
   ],
   "source": [
    "y_pred_by_polynomial_linear.astype(int)"
   ]
  }
 ],
 "metadata": {
  "kernelspec": {
   "display_name": "Python 3",
   "language": "python",
   "name": "python3"
  },
  "language_info": {
   "codemirror_mode": {
    "name": "ipython",
    "version": 3
   },
   "file_extension": ".py",
   "mimetype": "text/x-python",
   "name": "python",
   "nbconvert_exporter": "python",
   "pygments_lexer": "ipython3",
   "version": "3.9.0"
  }
 },
 "nbformat": 4,
 "nbformat_minor": 4
}