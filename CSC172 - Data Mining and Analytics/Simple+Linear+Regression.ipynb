{
 "cells": [
  {
   "cell_type": "code",
   "execution_count": 1,
   "metadata": {},
   "outputs": [],
   "source": [
    "import pandas as pd"
   ]
  },
  {
   "cell_type": "code",
   "execution_count": 2,
   "metadata": {},
   "outputs": [],
   "source": [
    "dataset = pd.read_csv('Study_Hours.csv')"
   ]
  },
  {
   "cell_type": "code",
   "execution_count": 3,
   "metadata": {},
   "outputs": [
    {
     "data": {
      "text/plain": [
       "<bound method NDFrame._add_numeric_operations.<locals>.all of     Hours of Study  Exam Score\n",
       "0              1.2         300\n",
       "1              1.7         470\n",
       "2              4.0         500\n",
       "3              6.0         600\n",
       "4              5.5         500\n",
       "5              6.3         700\n",
       "6              6.6         850\n",
       "7              3.2         480\n",
       "8              6.5         810\n",
       "9              4.5         490\n",
       "10             5.4         570\n",
       "11             6.8         720\n",
       "12             6.0         620\n",
       "13             3.8         400\n",
       "14             2.5         410\n",
       "15             5.2         470\n",
       "16             5.5         680\n",
       "17             5.6         700\n",
       "18             6.0         720\n",
       "19             1.3         350\n",
       "20             1.4         320\n",
       "21             5.6         560\n",
       "22             5.0         550\n",
       "23             4.2         420\n",
       "24             4.5         510\n",
       "25             5.2         490\n",
       "26             3.1         470\n",
       "27             3.4         500\n",
       "28             5.1         520\n",
       "29             4.4         425>"
      ]
     },
     "execution_count": 3,
     "metadata": {},
     "output_type": "execute_result"
    }
   ],
   "source": [
    "dataset.all"
   ]
  },
  {
   "cell_type": "code",
   "execution_count": 4,
   "metadata": {},
   "outputs": [],
   "source": [
    "X = dataset.iloc[:, :-1].values\n",
    "y = dataset.iloc[:, 1].values"
   ]
  },
  {
   "cell_type": "code",
   "execution_count": 5,
   "metadata": {},
   "outputs": [
    {
     "data": {
      "text/plain": [
       "(array([[1.2],\n",
       "        [1.7],\n",
       "        [4. ],\n",
       "        [6. ],\n",
       "        [5.5],\n",
       "        [6.3],\n",
       "        [6.6],\n",
       "        [3.2],\n",
       "        [6.5],\n",
       "        [4.5],\n",
       "        [5.4],\n",
       "        [6.8],\n",
       "        [6. ],\n",
       "        [3.8],\n",
       "        [2.5],\n",
       "        [5.2],\n",
       "        [5.5],\n",
       "        [5.6],\n",
       "        [6. ],\n",
       "        [1.3],\n",
       "        [1.4],\n",
       "        [5.6],\n",
       "        [5. ],\n",
       "        [4.2],\n",
       "        [4.5],\n",
       "        [5.2],\n",
       "        [3.1],\n",
       "        [3.4],\n",
       "        [5.1],\n",
       "        [4.4]]),\n",
       " array([300, 470, 500, 600, 500, 700, 850, 480, 810, 490, 570, 720, 620,\n",
       "        400, 410, 470, 680, 700, 720, 350, 320, 560, 550, 420, 510, 490,\n",
       "        470, 500, 520, 425]))"
      ]
     },
     "execution_count": 5,
     "metadata": {},
     "output_type": "execute_result"
    }
   ],
   "source": [
    "X,y"
   ]
  },
  {
   "cell_type": "code",
   "execution_count": 6,
   "metadata": {},
   "outputs": [],
   "source": [
    "from sklearn.model_selection import train_test_split\n",
    "X_train,X_test,y_train,y_test = train_test_split(X,y,test_size=1/3,random_state=0)"
   ]
  },
  {
   "cell_type": "code",
   "execution_count": 7,
   "metadata": {},
   "outputs": [
    {
     "data": {
      "text/plain": [
       "(array([[6.3],\n",
       "        [5.5],\n",
       "        [6.5],\n",
       "        [2.5],\n",
       "        [4.2],\n",
       "        [1.4],\n",
       "        [1.7],\n",
       "        [4.4],\n",
       "        [6.6],\n",
       "        [5.5],\n",
       "        [6. ],\n",
       "        [1.3],\n",
       "        [4.5],\n",
       "        [3.2],\n",
       "        [5.2],\n",
       "        [6. ],\n",
       "        [1.2],\n",
       "        [5.6],\n",
       "        [5.2],\n",
       "        [6. ]]),\n",
       " array([700, 680, 810, 410, 420, 320, 470, 425, 850, 500, 720, 350, 490,\n",
       "        480, 490, 600, 300, 560, 470, 620]))"
      ]
     },
     "execution_count": 7,
     "metadata": {},
     "output_type": "execute_result"
    }
   ],
   "source": [
    "X_train, y_train"
   ]
  },
  {
   "cell_type": "code",
   "execution_count": 8,
   "metadata": {},
   "outputs": [
    {
     "data": {
      "text/plain": [
       "(array([[4. ],\n",
       "        [5.1],\n",
       "        [3.8],\n",
       "        [5.4],\n",
       "        [3.1],\n",
       "        [4.5],\n",
       "        [3.4],\n",
       "        [6.8],\n",
       "        [5.6],\n",
       "        [5. ]]),\n",
       " array([500, 520, 400, 570, 470, 510, 500, 720, 700, 550]))"
      ]
     },
     "execution_count": 8,
     "metadata": {},
     "output_type": "execute_result"
    }
   ],
   "source": [
    "X_test, y_test"
   ]
  },
  {
   "cell_type": "code",
   "execution_count": 9,
   "metadata": {},
   "outputs": [],
   "source": [
    "from sklearn.linear_model import LinearRegression "
   ]
  },
  {
   "cell_type": "code",
   "execution_count": 10,
   "metadata": {},
   "outputs": [],
   "source": [
    "s_reg = LinearRegression()"
   ]
  },
  {
   "cell_type": "code",
   "execution_count": 11,
   "metadata": {},
   "outputs": [
    {
     "data": {
      "text/plain": [
       "LinearRegression()"
      ]
     },
     "execution_count": 11,
     "metadata": {},
     "output_type": "execute_result"
    }
   ],
   "source": [
    "s_reg.fit(X_train, y_train)"
   ]
  },
  {
   "cell_type": "code",
   "execution_count": 12,
   "metadata": {},
   "outputs": [],
   "source": [
    "y_pred = s_reg.predict(X_test)"
   ]
  },
  {
   "cell_type": "code",
   "execution_count": 13,
   "metadata": {},
   "outputs": [
    {
     "data": {
      "text/plain": [
       "(array([502, 579, 488, 600, 440, 537, 460, 697, 613, 572]),\n",
       " array([500, 520, 400, 570, 470, 510, 500, 720, 700, 550]))"
      ]
     },
     "execution_count": 13,
     "metadata": {},
     "output_type": "execute_result"
    }
   ],
   "source": [
    "y_pred.astype(int), y_test"
   ]
  },
  {
   "cell_type": "code",
   "execution_count": 14,
   "metadata": {},
   "outputs": [],
   "source": [
    "import matplotlib.pyplot as plt"
   ]
  },
  {
   "cell_type": "code",
   "execution_count": 15,
   "metadata": {},
   "outputs": [
    {
     "data": {
      "image/png": "[encoded data removed]",
      "text/plain": [
       "<Figure size 432x288 with 1 Axes>"
      ]
     },
     "metadata": {
      "needs_background": "light"
     },
     "output_type": "display_data"
    }
   ],
   "source": [
    "plt.scatter(X_train,y_train, color='red')\n",
    "plt.plot(X_train,s_reg.predict(X_train), color = 'blue')\n",
    "plt.title('Study_Hours vs Exam_Score (Training set)')\n",
    "plt.xlabel('Study_Hours')\n",
    "plt.ylabel('Exam_Score')\n",
    "plt.show()"
   ]
  },
  {
   "cell_type": "code",
   "execution_count": 16,
   "metadata": {},
   "outputs": [
    {
     "data": {
      "image/png": "[encoded data removed]",
      "text/plain": [
       "<Figure size 432x288 with 1 Axes>"
      ]
     },
     "metadata": {
      "needs_background": "light"
     },
     "output_type": "display_data"
    }
   ],
   "source": [
    "plt.scatter(X_test,y_test, color='red')\n",
    "plt.plot(X_train,s_reg.predict(X_train), color = 'blue')\n",
    "plt.title('Study_Hours vs Exam_Score (Test set)')\n",
    "plt.xlabel('Study_Hours')\n",
    "plt.ylabel('Exam_Score')\n",
    "plt.show()"
   ]
  },
  {
   "cell_type": "code",
   "execution_count": 17,
   "metadata": {},
   "outputs": [],
   "source": [
    "from sklearn.metrics import r2_score"
   ]
  },
  {
   "cell_type": "code",
   "execution_count": 18,
   "metadata": {},
   "outputs": [],
   "source": [
    "R_square = r2_score(y_train,s_reg.predict(X_train))"
   ]
  },
  {
   "cell_type": "code",
   "execution_count": 19,
   "metadata": {},
   "outputs": [
    {
     "name": "stdout",
     "output_type": "stream",
     "text": [
      "0.6993482275039331\n"
     ]
    }
   ],
   "source": [
    "print(R_square)"
   ]
  }
 ],
 "metadata": {
  "kernelspec": {
   "display_name": "Python 3",
   "language": "python",
   "name": "python3"
  },
  "language_info": {
   "codemirror_mode": {
    "name": "ipython",
    "version": 3
   },
   "file_extension": ".py",
   "mimetype": "text/x-python",
   "name": "python",
   "nbconvert_exporter": "python",
   "pygments_lexer": "ipython3",
   "version": "3.9.0"
  }
 },
 "nbformat": 4,
 "nbformat_minor": 4
}